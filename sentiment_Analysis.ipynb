{
 "cells": [
  {
   "cell_type": "code",
   "execution_count": 59,
   "metadata": {
    "colab": {
     "base_uri": "https://localhost:8080/"
    },
    "id": "IXQ7dqqo0D3t",
    "outputId": "2963a6b4-1aa4-4ce7-9a55-5de6caabdaaf"
   },
   "outputs": [
    {
     "name": "stderr",
     "output_type": "stream",
     "text": [
      "[nltk_data] Downloading package stopwords to /root/nltk_data...\n",
      "[nltk_data]   Package stopwords is already up-to-date!\n"
     ]
    }
   ],
   "source": [
    "import pandas as pd\n",
    "import numpy as np\n",
    "import io\n",
    "import warnings\n",
    "warnings.filterwarnings('ignore')\n",
    "from google.colab import files\n",
    "from tqdm import tqdm\n",
    "import re\n",
    "import nltk\n",
    "nltk.download(\"stopwords\")\n",
    "from nltk.corpus import stopwords\n",
    "from nltk.stem.porter import *\n",
    "from nltk.sentiment.vader import SentimentIntensityAnalyzer\n",
    "from sklearn.model_selection import train_test_split\n",
    "import tensorflow as tf\n",
    "import seaborn as sns\n",
    "\n",
    "from sklearn.feature_extraction.text import TfidfVectorizer\n",
    "from sklearn.metrics import classification_report,confusion_matrix\n",
    "from sklearn import model_selection, svm\n",
    "from sklearn.metrics import accuracy_score\n",
    "import matplotlib.pyplot as plt\n",
    "from sklearn import metrics"
   ]
  },
  {
   "cell_type": "markdown",
   "metadata": {
    "id": "uElCajsY0BKS"
   },
   "source": [
    "### Loading of the data from the .csv file."
   ]
  },
  {
   "cell_type": "code",
   "execution_count": 61,
   "metadata": {
    "colab": {
     "base_uri": "https://localhost:8080/",
     "height": 424
    },
    "id": "Z_5qhaCBzo9m",
    "outputId": "418be991-ea9a-422a-9d28-91b4f84cf06e"
   },
   "outputs": [
    {
     "data": {
      "text/html": [
       "\n",
       "  <div id=\"df-e17ece44-58f9-48c1-89c4-6dc174196d37\">\n",
       "    <div class=\"colab-df-container\">\n",
       "      <div>\n",
       "<style scoped>\n",
       "    .dataframe tbody tr th:only-of-type {\n",
       "        vertical-align: middle;\n",
       "    }\n",
       "\n",
       "    .dataframe tbody tr th {\n",
       "        vertical-align: top;\n",
       "    }\n",
       "\n",
       "    .dataframe thead th {\n",
       "        text-align: right;\n",
       "    }\n",
       "</style>\n",
       "<table border=\"1\" class=\"dataframe\">\n",
       "  <thead>\n",
       "    <tr style=\"text-align: right;\">\n",
       "      <th></th>\n",
       "      <th>airline_sentiment</th>\n",
       "      <th>text</th>\n",
       "    </tr>\n",
       "  </thead>\n",
       "  <tbody>\n",
       "    <tr>\n",
       "      <th>0</th>\n",
       "      <td>positive</td>\n",
       "      <td>@VirginAmerica plus you've added commercials t...</td>\n",
       "    </tr>\n",
       "    <tr>\n",
       "      <th>1</th>\n",
       "      <td>negative</td>\n",
       "      <td>@VirginAmerica it's really aggressive to blast...</td>\n",
       "    </tr>\n",
       "    <tr>\n",
       "      <th>2</th>\n",
       "      <td>negative</td>\n",
       "      <td>@VirginAmerica and it's a really big bad thing...</td>\n",
       "    </tr>\n",
       "    <tr>\n",
       "      <th>3</th>\n",
       "      <td>negative</td>\n",
       "      <td>@VirginAmerica seriously would pay $30 a fligh...</td>\n",
       "    </tr>\n",
       "    <tr>\n",
       "      <th>4</th>\n",
       "      <td>positive</td>\n",
       "      <td>@VirginAmerica yes, nearly every time I fly VX...</td>\n",
       "    </tr>\n",
       "    <tr>\n",
       "      <th>...</th>\n",
       "      <td>...</td>\n",
       "      <td>...</td>\n",
       "    </tr>\n",
       "    <tr>\n",
       "      <th>11536</th>\n",
       "      <td>negative</td>\n",
       "      <td>@AmericanAir my flight was Cancelled Flightled...</td>\n",
       "    </tr>\n",
       "    <tr>\n",
       "      <th>11537</th>\n",
       "      <td>negative</td>\n",
       "      <td>@AmericanAir right on cue with the delays👌</td>\n",
       "    </tr>\n",
       "    <tr>\n",
       "      <th>11538</th>\n",
       "      <td>positive</td>\n",
       "      <td>@AmericanAir thank you we got on a different f...</td>\n",
       "    </tr>\n",
       "    <tr>\n",
       "      <th>11539</th>\n",
       "      <td>negative</td>\n",
       "      <td>@AmericanAir leaving over 20 minutes Late Flig...</td>\n",
       "    </tr>\n",
       "    <tr>\n",
       "      <th>11540</th>\n",
       "      <td>negative</td>\n",
       "      <td>@AmericanAir you have my money, you change my ...</td>\n",
       "    </tr>\n",
       "  </tbody>\n",
       "</table>\n",
       "<p>11541 rows × 2 columns</p>\n",
       "</div>\n",
       "      <button class=\"colab-df-convert\" onclick=\"convertToInteractive('df-e17ece44-58f9-48c1-89c4-6dc174196d37')\"\n",
       "              title=\"Convert this dataframe to an interactive table.\"\n",
       "              style=\"display:none;\">\n",
       "        \n",
       "  <svg xmlns=\"http://www.w3.org/2000/svg\" height=\"24px\"viewBox=\"0 0 24 24\"\n",
       "       width=\"24px\">\n",
       "    <path d=\"M0 0h24v24H0V0z\" fill=\"none\"/>\n",
       "    <path d=\"M18.56 5.44l.94 2.06.94-2.06 2.06-.94-2.06-.94-.94-2.06-.94 2.06-2.06.94zm-11 1L8.5 8.5l.94-2.06 2.06-.94-2.06-.94L8.5 2.5l-.94 2.06-2.06.94zm10 10l.94 2.06.94-2.06 2.06-.94-2.06-.94-.94-2.06-.94 2.06-2.06.94z\"/><path d=\"M17.41 7.96l-1.37-1.37c-.4-.4-.92-.59-1.43-.59-.52 0-1.04.2-1.43.59L10.3 9.45l-7.72 7.72c-.78.78-.78 2.05 0 2.83L4 21.41c.39.39.9.59 1.41.59.51 0 1.02-.2 1.41-.59l7.78-7.78 2.81-2.81c.8-.78.8-2.07 0-2.86zM5.41 20L4 18.59l7.72-7.72 1.47 1.35L5.41 20z\"/>\n",
       "  </svg>\n",
       "      </button>\n",
       "      \n",
       "  <style>\n",
       "    .colab-df-container {\n",
       "      display:flex;\n",
       "      flex-wrap:wrap;\n",
       "      gap: 12px;\n",
       "    }\n",
       "\n",
       "    .colab-df-convert {\n",
       "      background-color: #E8F0FE;\n",
       "      border: none;\n",
       "      border-radius: 50%;\n",
       "      cursor: pointer;\n",
       "      display: none;\n",
       "      fill: #1967D2;\n",
       "      height: 32px;\n",
       "      padding: 0 0 0 0;\n",
       "      width: 32px;\n",
       "    }\n",
       "\n",
       "    .colab-df-convert:hover {\n",
       "      background-color: #E2EBFA;\n",
       "      box-shadow: 0px 1px 2px rgba(60, 64, 67, 0.3), 0px 1px 3px 1px rgba(60, 64, 67, 0.15);\n",
       "      fill: #174EA6;\n",
       "    }\n",
       "\n",
       "    [theme=dark] .colab-df-convert {\n",
       "      background-color: #3B4455;\n",
       "      fill: #D2E3FC;\n",
       "    }\n",
       "\n",
       "    [theme=dark] .colab-df-convert:hover {\n",
       "      background-color: #434B5C;\n",
       "      box-shadow: 0px 1px 3px 1px rgba(0, 0, 0, 0.15);\n",
       "      filter: drop-shadow(0px 1px 2px rgba(0, 0, 0, 0.3));\n",
       "      fill: #FFFFFF;\n",
       "    }\n",
       "  </style>\n",
       "\n",
       "      <script>\n",
       "        const buttonEl =\n",
       "          document.querySelector('#df-e17ece44-58f9-48c1-89c4-6dc174196d37 button.colab-df-convert');\n",
       "        buttonEl.style.display =\n",
       "          google.colab.kernel.accessAllowed ? 'block' : 'none';\n",
       "\n",
       "        async function convertToInteractive(key) {\n",
       "          const element = document.querySelector('#df-e17ece44-58f9-48c1-89c4-6dc174196d37');\n",
       "          const dataTable =\n",
       "            await google.colab.kernel.invokeFunction('convertToInteractive',\n",
       "                                                     [key], {});\n",
       "          if (!dataTable) return;\n",
       "\n",
       "          const docLinkHtml = 'Like what you see? Visit the ' +\n",
       "            '<a target=\"_blank\" href=https://colab.research.google.com/notebooks/data_table.ipynb>data table notebook</a>'\n",
       "            + ' to learn more about interactive tables.';\n",
       "          element.innerHTML = '';\n",
       "          dataTable['output_type'] = 'display_data';\n",
       "          await google.colab.output.renderOutput(dataTable, element);\n",
       "          const docLink = document.createElement('div');\n",
       "          docLink.innerHTML = docLinkHtml;\n",
       "          element.appendChild(docLink);\n",
       "        }\n",
       "      </script>\n",
       "    </div>\n",
       "  </div>\n",
       "  "
      ],
      "text/plain": [
       "      airline_sentiment                                               text\n",
       "0              positive  @VirginAmerica plus you've added commercials t...\n",
       "1              negative  @VirginAmerica it's really aggressive to blast...\n",
       "2              negative  @VirginAmerica and it's a really big bad thing...\n",
       "3              negative  @VirginAmerica seriously would pay $30 a fligh...\n",
       "4              positive  @VirginAmerica yes, nearly every time I fly VX...\n",
       "...                 ...                                                ...\n",
       "11536          negative  @AmericanAir my flight was Cancelled Flightled...\n",
       "11537          negative         @AmericanAir right on cue with the delays👌\n",
       "11538          positive  @AmericanAir thank you we got on a different f...\n",
       "11539          negative  @AmericanAir leaving over 20 minutes Late Flig...\n",
       "11540          negative  @AmericanAir you have my money, you change my ...\n",
       "\n",
       "[11541 rows x 2 columns]"
      ]
     },
     "execution_count": 61,
     "metadata": {},
     "output_type": "execute_result"
    }
   ],
   "source": [
    "df = pd.read_csv('Tweets.csv')\n",
    "df"
   ]
  },
  {
   "cell_type": "code",
   "execution_count": 62,
   "metadata": {
    "colab": {
     "base_uri": "https://localhost:8080/",
     "height": 405
    },
    "id": "zbXKc4e5NiK1",
    "outputId": "121e12b3-bcff-4215-b8f1-6319b1e8ef90"
   },
   "outputs": [
    {
     "data": {
      "image/png": "[encoded data removed]",
      "text/plain": [
       "<Figure size 576x432 with 1 Axes>"
      ]
     },
     "metadata": {
      "needs_background": "light"
     },
     "output_type": "display_data"
    }
   ],
   "source": [
    "plt.figure(figsize = (8,6))\n",
    "sns.countplot(x = 'airline_sentiment', data = df)\n",
    "plt.title(\"Sentiment Count\")\n",
    "plt.show()"
   ]
  },
  {
   "cell_type": "markdown",
   "metadata": {
    "id": "PYUK3Uxn02tk"
   },
   "source": [
    "### Suitable data preparation steps for NLP data"
   ]
  },
  {
   "cell_type": "code",
   "execution_count": 63,
   "metadata": {
    "id": "dP1mMV1FzpCj"
   },
   "outputs": [],
   "source": [
    "def tweet_to_words(tweet):\n",
    "    ''' Convert tweet text into a sequence of words which will be easy for further processing '''\n",
    "    TweetText = tweet.lower() # converting every tweet to lower case. \n",
    "    TweetText = re.sub(r\"[^a-zA-Z0-9]\", \" \", TweetText) # remving charaters that are not letters.\n",
    "    words = TweetText.split() # tokenization\n",
    "    words = [w for w in words if w not in stopwords.words(\"english\")] # removing all stop words\n",
    "    words = [PorterStemmer().stem(w) for w in words] # stemming\n",
    "    return words"
   ]
  },
  {
   "cell_type": "code",
   "execution_count": 64,
   "metadata": {
    "colab": {
     "base_uri": "https://localhost:8080/",
     "height": 442
    },
    "id": "6ZZvMM0NzpGN",
    "outputId": "a5a93324-289c-4a94-bf5f-0e078779b768"
   },
   "outputs": [
    {
     "name": "stderr",
     "output_type": "stream",
     "text": [
      "100%|██████████| 11541/11541 [00:30<00:00, 379.74it/s]\n"
     ]
    },
    {
     "data": {
      "text/html": [
       "\n",
       "  <div id=\"df-c981c2c2-57fb-4b96-b1d9-126534c72ac7\">\n",
       "    <div class=\"colab-df-container\">\n",
       "      <div>\n",
       "<style scoped>\n",
       "    .dataframe tbody tr th:only-of-type {\n",
       "        vertical-align: middle;\n",
       "    }\n",
       "\n",
       "    .dataframe tbody tr th {\n",
       "        vertical-align: top;\n",
       "    }\n",
       "\n",
       "    .dataframe thead th {\n",
       "        text-align: right;\n",
       "    }\n",
       "</style>\n",
       "<table border=\"1\" class=\"dataframe\">\n",
       "  <thead>\n",
       "    <tr style=\"text-align: right;\">\n",
       "      <th></th>\n",
       "      <th>airline_sentiment</th>\n",
       "      <th>text</th>\n",
       "      <th>cleantext</th>\n",
       "    </tr>\n",
       "  </thead>\n",
       "  <tbody>\n",
       "    <tr>\n",
       "      <th>0</th>\n",
       "      <td>positive</td>\n",
       "      <td>@VirginAmerica plus you've added commercials t...</td>\n",
       "      <td>[virginamerica, plu, ad, commerci, experi, tacki]</td>\n",
       "    </tr>\n",
       "    <tr>\n",
       "      <th>1</th>\n",
       "      <td>negative</td>\n",
       "      <td>@VirginAmerica it's really aggressive to blast...</td>\n",
       "      <td>[virginamerica, realli, aggress, blast, obnoxi...</td>\n",
       "    </tr>\n",
       "    <tr>\n",
       "      <th>2</th>\n",
       "      <td>negative</td>\n",
       "      <td>@VirginAmerica and it's a really big bad thing...</td>\n",
       "      <td>[virginamerica, realli, big, bad, thing]</td>\n",
       "    </tr>\n",
       "    <tr>\n",
       "      <th>3</th>\n",
       "      <td>negative</td>\n",
       "      <td>@VirginAmerica seriously would pay $30 a fligh...</td>\n",
       "      <td>[virginamerica, serious, would, pay, 30, fligh...</td>\n",
       "    </tr>\n",
       "    <tr>\n",
       "      <th>4</th>\n",
       "      <td>positive</td>\n",
       "      <td>@VirginAmerica yes, nearly every time I fly VX...</td>\n",
       "      <td>[virginamerica, ye, nearli, everi, time, fli, ...</td>\n",
       "    </tr>\n",
       "    <tr>\n",
       "      <th>...</th>\n",
       "      <td>...</td>\n",
       "      <td>...</td>\n",
       "      <td>...</td>\n",
       "    </tr>\n",
       "    <tr>\n",
       "      <th>11536</th>\n",
       "      <td>negative</td>\n",
       "      <td>@AmericanAir my flight was Cancelled Flightled...</td>\n",
       "      <td>[americanair, flight, cancel, flightl, leav, t...</td>\n",
       "    </tr>\n",
       "    <tr>\n",
       "      <th>11537</th>\n",
       "      <td>negative</td>\n",
       "      <td>@AmericanAir right on cue with the delays👌</td>\n",
       "      <td>[americanair, right, cue, delay]</td>\n",
       "    </tr>\n",
       "    <tr>\n",
       "      <th>11538</th>\n",
       "      <td>positive</td>\n",
       "      <td>@AmericanAir thank you we got on a different f...</td>\n",
       "      <td>[americanair, thank, got, differ, flight, chic...</td>\n",
       "    </tr>\n",
       "    <tr>\n",
       "      <th>11539</th>\n",
       "      <td>negative</td>\n",
       "      <td>@AmericanAir leaving over 20 minutes Late Flig...</td>\n",
       "      <td>[americanair, leav, 20, minut, late, flight, w...</td>\n",
       "    </tr>\n",
       "    <tr>\n",
       "      <th>11540</th>\n",
       "      <td>negative</td>\n",
       "      <td>@AmericanAir you have my money, you change my ...</td>\n",
       "      <td>[americanair, money, chang, flight, answer, ph...</td>\n",
       "    </tr>\n",
       "  </tbody>\n",
       "</table>\n",
       "<p>11541 rows × 3 columns</p>\n",
       "</div>\n",
       "      <button class=\"colab-df-convert\" onclick=\"convertToInteractive('df-c981c2c2-57fb-4b96-b1d9-126534c72ac7')\"\n",
       "              title=\"Convert this dataframe to an interactive table.\"\n",
       "              style=\"display:none;\">\n",
       "        \n",
       "  <svg xmlns=\"http://www.w3.org/2000/svg\" height=\"24px\"viewBox=\"0 0 24 24\"\n",
       "       width=\"24px\">\n",
       "    <path d=\"M0 0h24v24H0V0z\" fill=\"none\"/>\n",
       "    <path d=\"M18.56 5.44l.94 2.06.94-2.06 2.06-.94-2.06-.94-.94-2.06-.94 2.06-2.06.94zm-11 1L8.5 8.5l.94-2.06 2.06-.94-2.06-.94L8.5 2.5l-.94 2.06-2.06.94zm10 10l.94 2.06.94-2.06 2.06-.94-2.06-.94-.94-2.06-.94 2.06-2.06.94z\"/><path d=\"M17.41 7.96l-1.37-1.37c-.4-.4-.92-.59-1.43-.59-.52 0-1.04.2-1.43.59L10.3 9.45l-7.72 7.72c-.78.78-.78 2.05 0 2.83L4 21.41c.39.39.9.59 1.41.59.51 0 1.02-.2 1.41-.59l7.78-7.78 2.81-2.81c.8-.78.8-2.07 0-2.86zM5.41 20L4 18.59l7.72-7.72 1.47 1.35L5.41 20z\"/>\n",
       "  </svg>\n",
       "      </button>\n",
       "      \n",
       "  <style>\n",
       "    .colab-df-container {\n",
       "      display:flex;\n",
       "      flex-wrap:wrap;\n",
       "      gap: 12px;\n",
       "    }\n",
       "\n",
       "    .colab-df-convert {\n",
       "      background-color: #E8F0FE;\n",
       "      border: none;\n",
       "      border-radius: 50%;\n",
       "      cursor: pointer;\n",
       "      display: none;\n",
       "      fill: #1967D2;\n",
       "      height: 32px;\n",
       "      padding: 0 0 0 0;\n",
       "      width: 32px;\n",
       "    }\n",
       "\n",
       "    .colab-df-convert:hover {\n",
       "      background-color: #E2EBFA;\n",
       "      box-shadow: 0px 1px 2px rgba(60, 64, 67, 0.3), 0px 1px 3px 1px rgba(60, 64, 67, 0.15);\n",
       "      fill: #174EA6;\n",
       "    }\n",
       "\n",
       "    [theme=dark] .colab-df-convert {\n",
       "      background-color: #3B4455;\n",
       "      fill: #D2E3FC;\n",
       "    }\n",
       "\n",
       "    [theme=dark] .colab-df-convert:hover {\n",
       "      background-color: #434B5C;\n",
       "      box-shadow: 0px 1px 3px 1px rgba(0, 0, 0, 0.15);\n",
       "      filter: drop-shadow(0px 1px 2px rgba(0, 0, 0, 0.3));\n",
       "      fill: #FFFFFF;\n",
       "    }\n",
       "  </style>\n",
       "\n",
       "      <script>\n",
       "        const buttonEl =\n",
       "          document.querySelector('#df-c981c2c2-57fb-4b96-b1d9-126534c72ac7 button.colab-df-convert');\n",
       "        buttonEl.style.display =\n",
       "          google.colab.kernel.accessAllowed ? 'block' : 'none';\n",
       "\n",
       "        async function convertToInteractive(key) {\n",
       "          const element = document.querySelector('#df-c981c2c2-57fb-4b96-b1d9-126534c72ac7');\n",
       "          const dataTable =\n",
       "            await google.colab.kernel.invokeFunction('convertToInteractive',\n",
       "                                                     [key], {});\n",
       "          if (!dataTable) return;\n",
       "\n",
       "          const docLinkHtml = 'Like what you see? Visit the ' +\n",
       "            '<a target=\"_blank\" href=https://colab.research.google.com/notebooks/data_table.ipynb>data table notebook</a>'\n",
       "            + ' to learn more about interactive tables.';\n",
       "          element.innerHTML = '';\n",
       "          dataTable['output_type'] = 'display_data';\n",
       "          await google.colab.output.renderOutput(dataTable, element);\n",
       "          const docLink = document.createElement('div');\n",
       "          docLink.innerHTML = docLinkHtml;\n",
       "          element.appendChild(docLink);\n",
       "        }\n",
       "      </script>\n",
       "    </div>\n",
       "  </div>\n",
       "  "
      ],
      "text/plain": [
       "      airline_sentiment                                               text  \\\n",
       "0              positive  @VirginAmerica plus you've added commercials t...   \n",
       "1              negative  @VirginAmerica it's really aggressive to blast...   \n",
       "2              negative  @VirginAmerica and it's a really big bad thing...   \n",
       "3              negative  @VirginAmerica seriously would pay $30 a fligh...   \n",
       "4              positive  @VirginAmerica yes, nearly every time I fly VX...   \n",
       "...                 ...                                                ...   \n",
       "11536          negative  @AmericanAir my flight was Cancelled Flightled...   \n",
       "11537          negative         @AmericanAir right on cue with the delays👌   \n",
       "11538          positive  @AmericanAir thank you we got on a different f...   \n",
       "11539          negative  @AmericanAir leaving over 20 minutes Late Flig...   \n",
       "11540          negative  @AmericanAir you have my money, you change my ...   \n",
       "\n",
       "                                               cleantext  \n",
       "0      [virginamerica, plu, ad, commerci, experi, tacki]  \n",
       "1      [virginamerica, realli, aggress, blast, obnoxi...  \n",
       "2               [virginamerica, realli, big, bad, thing]  \n",
       "3      [virginamerica, serious, would, pay, 30, fligh...  \n",
       "4      [virginamerica, ye, nearli, everi, time, fli, ...  \n",
       "...                                                  ...  \n",
       "11536  [americanair, flight, cancel, flightl, leav, t...  \n",
       "11537                   [americanair, right, cue, delay]  \n",
       "11538  [americanair, thank, got, differ, flight, chic...  \n",
       "11539  [americanair, leav, 20, minut, late, flight, w...  \n",
       "11540  [americanair, money, chang, flight, answer, ph...  \n",
       "\n",
       "[11541 rows x 3 columns]"
      ]
     },
     "execution_count": 64,
     "metadata": {},
     "output_type": "execute_result"
    }
   ],
   "source": [
    "cleantext=[]\n",
    "for item in tqdm(df['text']):\n",
    "    words=tweet_to_words(str(item))\n",
    "    cleantext+=[words]\n",
    "df['cleantext']=cleantext\n",
    "df"
   ]
  },
  {
   "cell_type": "code",
   "execution_count": 65,
   "metadata": {
    "id": "Lm9PwKrHRJ2F"
   },
   "outputs": [],
   "source": [
    "def unlist(list):\n",
    "  \"\"\" Converting list ento element with space seperation to make processing easy\"\"\"\n",
    "  words=''\n",
    "  for item in list:\n",
    "      words+=item+' '\n",
    "  return words"
   ]
  },
  {
   "cell_type": "code",
   "execution_count": 66,
   "metadata": {
    "colab": {
     "base_uri": "https://localhost:8080/"
    },
    "id": "oYkcgoXcTJIG",
    "outputId": "b9471513-0685-42b5-d023-2c7e7e824752"
   },
   "outputs": [
    {
     "name": "stderr",
     "output_type": "stream",
     "text": [
      "[nltk_data] Downloading package vader_lexicon to /root/nltk_data...\n",
      "[nltk_data]   Package vader_lexicon is already up-to-date!\n"
     ]
    },
    {
     "data": {
      "text/plain": [
       "True"
      ]
     },
     "execution_count": 66,
     "metadata": {},
     "output_type": "execute_result"
    }
   ],
   "source": [
    "nltk.download('vader_lexicon')"
   ]
  },
  {
   "cell_type": "code",
   "execution_count": 67,
   "metadata": {
    "id": "hM4Ph0uiRNS6"
   },
   "outputs": [],
   "source": [
    "def compute_vader_scores(df, label):\n",
    "    sid = SentimentIntensityAnalyzer()\n",
    "    df[\"Vader_Negative\"] =  df[label].apply(lambda x: sid.polarity_scores(unlist(x))[\"neg\"])\n",
    "    df[\"Vader_Neutral\"] =  df[label].apply(lambda x: sid.polarity_scores(unlist(x))[\"neu\"])\n",
    "    df[\"Vader_Positive\"] =  df[label].apply(lambda x: sid.polarity_scores(unlist(x))[\"pos\"])\n",
    "    df[\"Vader_Comp\"] = df[label].apply(lambda x: sid.polarity_scores(unlist(x))[\"compound\"])\n",
    "    df['cleantext2'] = df[label].apply(lambda x: unlist(x))\n",
    "    return df"
   ]
  },
  {
   "cell_type": "code",
   "execution_count": 68,
   "metadata": {
    "colab": {
     "base_uri": "https://localhost:8080/",
     "height": 503
    },
    "id": "H7lJQitlRQ3K",
    "outputId": "9c8fd6f0-788f-4a32-babc-34d5736c20b9"
   },
   "outputs": [
    {
     "data": {
      "text/html": [
       "\n",
       "  <div id=\"df-90d56cc2-c0ad-443c-af94-7852166855bc\">\n",
       "    <div class=\"colab-df-container\">\n",
       "      <div>\n",
       "<style scoped>\n",
       "    .dataframe tbody tr th:only-of-type {\n",
       "        vertical-align: middle;\n",
       "    }\n",
       "\n",
       "    .dataframe tbody tr th {\n",
       "        vertical-align: top;\n",
       "    }\n",
       "\n",
       "    .dataframe thead th {\n",
       "        text-align: right;\n",
       "    }\n",
       "</style>\n",
       "<table border=\"1\" class=\"dataframe\">\n",
       "  <thead>\n",
       "    <tr style=\"text-align: right;\">\n",
       "      <th></th>\n",
       "      <th>airline_sentiment</th>\n",
       "      <th>text</th>\n",
       "      <th>cleantext</th>\n",
       "      <th>Vader_Negative</th>\n",
       "      <th>Vader_Neutral</th>\n",
       "      <th>Vader_Positive</th>\n",
       "      <th>Vader_Comp</th>\n",
       "      <th>cleantext2</th>\n",
       "    </tr>\n",
       "  </thead>\n",
       "  <tbody>\n",
       "    <tr>\n",
       "      <th>0</th>\n",
       "      <td>positive</td>\n",
       "      <td>@VirginAmerica plus you've added commercials t...</td>\n",
       "      <td>[virginamerica, plu, ad, commerci, experi, tacki]</td>\n",
       "      <td>0.000</td>\n",
       "      <td>1.000</td>\n",
       "      <td>0.000</td>\n",
       "      <td>0.0000</td>\n",
       "      <td>virginamerica plu ad commerci experi tacki</td>\n",
       "    </tr>\n",
       "    <tr>\n",
       "      <th>1</th>\n",
       "      <td>negative</td>\n",
       "      <td>@VirginAmerica it's really aggressive to blast...</td>\n",
       "      <td>[virginamerica, realli, aggress, blast, obnoxi...</td>\n",
       "      <td>0.169</td>\n",
       "      <td>0.662</td>\n",
       "      <td>0.169</td>\n",
       "      <td>0.0000</td>\n",
       "      <td>virginamerica realli aggress blast obnoxi ente...</td>\n",
       "    </tr>\n",
       "    <tr>\n",
       "      <th>2</th>\n",
       "      <td>negative</td>\n",
       "      <td>@VirginAmerica and it's a really big bad thing...</td>\n",
       "      <td>[virginamerica, realli, big, bad, thing]</td>\n",
       "      <td>0.467</td>\n",
       "      <td>0.533</td>\n",
       "      <td>0.000</td>\n",
       "      <td>-0.5423</td>\n",
       "      <td>virginamerica realli big bad thing</td>\n",
       "    </tr>\n",
       "    <tr>\n",
       "      <th>3</th>\n",
       "      <td>negative</td>\n",
       "      <td>@VirginAmerica seriously would pay $30 a fligh...</td>\n",
       "      <td>[virginamerica, serious, would, pay, 30, fligh...</td>\n",
       "      <td>0.352</td>\n",
       "      <td>0.511</td>\n",
       "      <td>0.136</td>\n",
       "      <td>-0.4215</td>\n",
       "      <td>virginamerica serious would pay 30 flight seat...</td>\n",
       "    </tr>\n",
       "    <tr>\n",
       "      <th>4</th>\n",
       "      <td>positive</td>\n",
       "      <td>@VirginAmerica yes, nearly every time I fly VX...</td>\n",
       "      <td>[virginamerica, ye, nearli, everi, time, fli, ...</td>\n",
       "      <td>0.000</td>\n",
       "      <td>1.000</td>\n",
       "      <td>0.000</td>\n",
       "      <td>0.0000</td>\n",
       "      <td>virginamerica ye nearli everi time fli vx ear ...</td>\n",
       "    </tr>\n",
       "    <tr>\n",
       "      <th>...</th>\n",
       "      <td>...</td>\n",
       "      <td>...</td>\n",
       "      <td>...</td>\n",
       "      <td>...</td>\n",
       "      <td>...</td>\n",
       "      <td>...</td>\n",
       "      <td>...</td>\n",
       "      <td>...</td>\n",
       "    </tr>\n",
       "    <tr>\n",
       "      <th>11536</th>\n",
       "      <td>negative</td>\n",
       "      <td>@AmericanAir my flight was Cancelled Flightled...</td>\n",
       "      <td>[americanair, flight, cancel, flightl, leav, t...</td>\n",
       "      <td>0.125</td>\n",
       "      <td>0.875</td>\n",
       "      <td>0.000</td>\n",
       "      <td>-0.2500</td>\n",
       "      <td>americanair flight cancel flightl leav tomorro...</td>\n",
       "    </tr>\n",
       "    <tr>\n",
       "      <th>11537</th>\n",
       "      <td>negative</td>\n",
       "      <td>@AmericanAir right on cue with the delays👌</td>\n",
       "      <td>[americanair, right, cue, delay]</td>\n",
       "      <td>0.434</td>\n",
       "      <td>0.566</td>\n",
       "      <td>0.000</td>\n",
       "      <td>-0.3182</td>\n",
       "      <td>americanair right cue delay</td>\n",
       "    </tr>\n",
       "    <tr>\n",
       "      <th>11538</th>\n",
       "      <td>positive</td>\n",
       "      <td>@AmericanAir thank you we got on a different f...</td>\n",
       "      <td>[americanair, thank, got, differ, flight, chic...</td>\n",
       "      <td>0.000</td>\n",
       "      <td>0.667</td>\n",
       "      <td>0.333</td>\n",
       "      <td>0.3612</td>\n",
       "      <td>americanair thank got differ flight chicago</td>\n",
       "    </tr>\n",
       "    <tr>\n",
       "      <th>11539</th>\n",
       "      <td>negative</td>\n",
       "      <td>@AmericanAir leaving over 20 minutes Late Flig...</td>\n",
       "      <td>[americanair, leav, 20, minut, late, flight, w...</td>\n",
       "      <td>0.085</td>\n",
       "      <td>0.915</td>\n",
       "      <td>0.000</td>\n",
       "      <td>-0.1027</td>\n",
       "      <td>americanair leav 20 minut late flight warn com...</td>\n",
       "    </tr>\n",
       "    <tr>\n",
       "      <th>11540</th>\n",
       "      <td>negative</td>\n",
       "      <td>@AmericanAir you have my money, you change my ...</td>\n",
       "      <td>[americanair, money, chang, flight, answer, ph...</td>\n",
       "      <td>0.000</td>\n",
       "      <td>0.784</td>\n",
       "      <td>0.216</td>\n",
       "      <td>0.2960</td>\n",
       "      <td>americanair money chang flight answer phone su...</td>\n",
       "    </tr>\n",
       "  </tbody>\n",
       "</table>\n",
       "<p>11541 rows × 8 columns</p>\n",
       "</div>\n",
       "      <button class=\"colab-df-convert\" onclick=\"convertToInteractive('df-90d56cc2-c0ad-443c-af94-7852166855bc')\"\n",
       "              title=\"Convert this dataframe to an interactive table.\"\n",
       "              style=\"display:none;\">\n",
       "        \n",
       "  <svg xmlns=\"http://www.w3.org/2000/svg\" height=\"24px\"viewBox=\"0 0 24 24\"\n",
       "       width=\"24px\">\n",
       "    <path d=\"M0 0h24v24H0V0z\" fill=\"none\"/>\n",
       "    <path d=\"M18.56 5.44l.94 2.06.94-2.06 2.06-.94-2.06-.94-.94-2.06-.94 2.06-2.06.94zm-11 1L8.5 8.5l.94-2.06 2.06-.94-2.06-.94L8.5 2.5l-.94 2.06-2.06.94zm10 10l.94 2.06.94-2.06 2.06-.94-2.06-.94-.94-2.06-.94 2.06-2.06.94z\"/><path d=\"M17.41 7.96l-1.37-1.37c-.4-.4-.92-.59-1.43-.59-.52 0-1.04.2-1.43.59L10.3 9.45l-7.72 7.72c-.78.78-.78 2.05 0 2.83L4 21.41c.39.39.9.59 1.41.59.51 0 1.02-.2 1.41-.59l7.78-7.78 2.81-2.81c.8-.78.8-2.07 0-2.86zM5.41 20L4 18.59l7.72-7.72 1.47 1.35L5.41 20z\"/>\n",
       "  </svg>\n",
       "      </button>\n",
       "      \n",
       "  <style>\n",
       "    .colab-df-container {\n",
       "      display:flex;\n",
       "      flex-wrap:wrap;\n",
       "      gap: 12px;\n",
       "    }\n",
       "\n",
       "    .colab-df-convert {\n",
       "      background-color: #E8F0FE;\n",
       "      border: none;\n",
       "      border-radius: 50%;\n",
       "      cursor: pointer;\n",
       "      display: none;\n",
       "      fill: #1967D2;\n",
       "      height: 32px;\n",
       "      padding: 0 0 0 0;\n",
       "      width: 32px;\n",
       "    }\n",
       "\n",
       "    .colab-df-convert:hover {\n",
       "      background-color: #E2EBFA;\n",
       "      box-shadow: 0px 1px 2px rgba(60, 64, 67, 0.3), 0px 1px 3px 1px rgba(60, 64, 67, 0.15);\n",
       "      fill: #174EA6;\n",
       "    }\n",
       "\n",
       "    [theme=dark] .colab-df-convert {\n",
       "      background-color: #3B4455;\n",
       "      fill: #D2E3FC;\n",
       "    }\n",
       "\n",
       "    [theme=dark] .colab-df-convert:hover {\n",
       "      background-color: #434B5C;\n",
       "      box-shadow: 0px 1px 3px 1px rgba(0, 0, 0, 0.15);\n",
       "      filter: drop-shadow(0px 1px 2px rgba(0, 0, 0, 0.3));\n",
       "      fill: #FFFFFF;\n",
       "    }\n",
       "  </style>\n",
       "\n",
       "      <script>\n",
       "        const buttonEl =\n",
       "          document.querySelector('#df-90d56cc2-c0ad-443c-af94-7852166855bc button.colab-df-convert');\n",
       "        buttonEl.style.display =\n",
       "          google.colab.kernel.accessAllowed ? 'block' : 'none';\n",
       "\n",
       "        async function convertToInteractive(key) {\n",
       "          const element = document.querySelector('#df-90d56cc2-c0ad-443c-af94-7852166855bc');\n",
       "          const dataTable =\n",
       "            await google.colab.kernel.invokeFunction('convertToInteractive',\n",
       "                                                     [key], {});\n",
       "          if (!dataTable) return;\n",
       "\n",
       "          const docLinkHtml = 'Like what you see? Visit the ' +\n",
       "            '<a target=\"_blank\" href=https://colab.research.google.com/notebooks/data_table.ipynb>data table notebook</a>'\n",
       "            + ' to learn more about interactive tables.';\n",
       "          element.innerHTML = '';\n",
       "          dataTable['output_type'] = 'display_data';\n",
       "          await google.colab.output.renderOutput(dataTable, element);\n",
       "          const docLink = document.createElement('div');\n",
       "          docLink.innerHTML = docLinkHtml;\n",
       "          element.appendChild(docLink);\n",
       "        }\n",
       "      </script>\n",
       "    </div>\n",
       "  </div>\n",
       "  "
      ],
      "text/plain": [
       "      airline_sentiment                                               text  \\\n",
       "0              positive  @VirginAmerica plus you've added commercials t...   \n",
       "1              negative  @VirginAmerica it's really aggressive to blast...   \n",
       "2              negative  @VirginAmerica and it's a really big bad thing...   \n",
       "3              negative  @VirginAmerica seriously would pay $30 a fligh...   \n",
       "4              positive  @VirginAmerica yes, nearly every time I fly VX...   \n",
       "...                 ...                                                ...   \n",
       "11536          negative  @AmericanAir my flight was Cancelled Flightled...   \n",
       "11537          negative         @AmericanAir right on cue with the delays👌   \n",
       "11538          positive  @AmericanAir thank you we got on a different f...   \n",
       "11539          negative  @AmericanAir leaving over 20 minutes Late Flig...   \n",
       "11540          negative  @AmericanAir you have my money, you change my ...   \n",
       "\n",
       "                                               cleantext  Vader_Negative  \\\n",
       "0      [virginamerica, plu, ad, commerci, experi, tacki]           0.000   \n",
       "1      [virginamerica, realli, aggress, blast, obnoxi...           0.169   \n",
       "2               [virginamerica, realli, big, bad, thing]           0.467   \n",
       "3      [virginamerica, serious, would, pay, 30, fligh...           0.352   \n",
       "4      [virginamerica, ye, nearli, everi, time, fli, ...           0.000   \n",
       "...                                                  ...             ...   \n",
       "11536  [americanair, flight, cancel, flightl, leav, t...           0.125   \n",
       "11537                   [americanair, right, cue, delay]           0.434   \n",
       "11538  [americanair, thank, got, differ, flight, chic...           0.000   \n",
       "11539  [americanair, leav, 20, minut, late, flight, w...           0.085   \n",
       "11540  [americanair, money, chang, flight, answer, ph...           0.000   \n",
       "\n",
       "       Vader_Neutral  Vader_Positive  Vader_Comp  \\\n",
       "0              1.000           0.000      0.0000   \n",
       "1              0.662           0.169      0.0000   \n",
       "2              0.533           0.000     -0.5423   \n",
       "3              0.511           0.136     -0.4215   \n",
       "4              1.000           0.000      0.0000   \n",
       "...              ...             ...         ...   \n",
       "11536          0.875           0.000     -0.2500   \n",
       "11537          0.566           0.000     -0.3182   \n",
       "11538          0.667           0.333      0.3612   \n",
       "11539          0.915           0.000     -0.1027   \n",
       "11540          0.784           0.216      0.2960   \n",
       "\n",
       "                                              cleantext2  \n",
       "0            virginamerica plu ad commerci experi tacki   \n",
       "1      virginamerica realli aggress blast obnoxi ente...  \n",
       "2                    virginamerica realli big bad thing   \n",
       "3      virginamerica serious would pay 30 flight seat...  \n",
       "4      virginamerica ye nearli everi time fli vx ear ...  \n",
       "...                                                  ...  \n",
       "11536  americanair flight cancel flightl leav tomorro...  \n",
       "11537                       americanair right cue delay   \n",
       "11538       americanair thank got differ flight chicago   \n",
       "11539  americanair leav 20 minut late flight warn com...  \n",
       "11540  americanair money chang flight answer phone su...  \n",
       "\n",
       "[11541 rows x 8 columns]"
      ]
     },
     "execution_count": 68,
     "metadata": {},
     "output_type": "execute_result"
    }
   ],
   "source": [
    "df2 = compute_vader_scores(df,'cleantext')\n",
    "df2"
   ]
  },
  {
   "cell_type": "code",
   "execution_count": 69,
   "metadata": {
    "colab": {
     "base_uri": "https://localhost:8080/"
    },
    "id": "SM7hu4wETn9W",
    "outputId": "a958d72b-8805-43f3-98a5-6e669a164578"
   },
   "outputs": [
    {
     "data": {
      "text/plain": [
       "negative    9178\n",
       "positive    2363\n",
       "Name: airline_sentiment, dtype: int64"
      ]
     },
     "execution_count": 69,
     "metadata": {},
     "output_type": "execute_result"
    }
   ],
   "source": [
    "df2['airline_sentiment'].value_counts()"
   ]
  },
  {
   "cell_type": "code",
   "execution_count": 70,
   "metadata": {
    "id": "Iw8URVQQToAx"
   },
   "outputs": [],
   "source": [
    "from sklearn.preprocessing import LabelEncoder, StandardScaler, RobustScaler\n",
    "#cocverting the positive and negative sentiment into binary value. \n",
    "BinaryCol = ['airline_sentiment']\n",
    "def label_encoder(df2, binary_col):\n",
    "    labelencoder = LabelEncoder()\n",
    "    df[binary_col] = labelencoder.fit_transform(df[binary_col])\n",
    "    return df\n",
    "for column in BinaryCol:\n",
    "    label_encoder(df2, column)"
   ]
  },
  {
   "cell_type": "code",
   "execution_count": 71,
   "metadata": {
    "colab": {
     "base_uri": "https://localhost:8080/",
     "height": 424
    },
    "id": "frELkCelToEO",
    "outputId": "7440ac50-4a7d-4e5b-cf08-67fc0c598ed6"
   },
   "outputs": [
    {
     "data": {
      "text/html": [
       "\n",
       "  <div id=\"df-47f4f7c0-5cf9-44bc-90ef-669d925d46df\">\n",
       "    <div class=\"colab-df-container\">\n",
       "      <div>\n",
       "<style scoped>\n",
       "    .dataframe tbody tr th:only-of-type {\n",
       "        vertical-align: middle;\n",
       "    }\n",
       "\n",
       "    .dataframe tbody tr th {\n",
       "        vertical-align: top;\n",
       "    }\n",
       "\n",
       "    .dataframe thead th {\n",
       "        text-align: right;\n",
       "    }\n",
       "</style>\n",
       "<table border=\"1\" class=\"dataframe\">\n",
       "  <thead>\n",
       "    <tr style=\"text-align: right;\">\n",
       "      <th></th>\n",
       "      <th>airline_sentiment</th>\n",
       "      <th>cleantext2</th>\n",
       "    </tr>\n",
       "  </thead>\n",
       "  <tbody>\n",
       "    <tr>\n",
       "      <th>0</th>\n",
       "      <td>1</td>\n",
       "      <td>virginamerica plu ad commerci experi tacki</td>\n",
       "    </tr>\n",
       "    <tr>\n",
       "      <th>1</th>\n",
       "      <td>0</td>\n",
       "      <td>virginamerica realli aggress blast obnoxi ente...</td>\n",
       "    </tr>\n",
       "    <tr>\n",
       "      <th>2</th>\n",
       "      <td>0</td>\n",
       "      <td>virginamerica realli big bad thing</td>\n",
       "    </tr>\n",
       "    <tr>\n",
       "      <th>3</th>\n",
       "      <td>0</td>\n",
       "      <td>virginamerica serious would pay 30 flight seat...</td>\n",
       "    </tr>\n",
       "    <tr>\n",
       "      <th>4</th>\n",
       "      <td>1</td>\n",
       "      <td>virginamerica ye nearli everi time fli vx ear ...</td>\n",
       "    </tr>\n",
       "    <tr>\n",
       "      <th>...</th>\n",
       "      <td>...</td>\n",
       "      <td>...</td>\n",
       "    </tr>\n",
       "    <tr>\n",
       "      <th>11536</th>\n",
       "      <td>0</td>\n",
       "      <td>americanair flight cancel flightl leav tomorro...</td>\n",
       "    </tr>\n",
       "    <tr>\n",
       "      <th>11537</th>\n",
       "      <td>0</td>\n",
       "      <td>americanair right cue delay</td>\n",
       "    </tr>\n",
       "    <tr>\n",
       "      <th>11538</th>\n",
       "      <td>1</td>\n",
       "      <td>americanair thank got differ flight chicago</td>\n",
       "    </tr>\n",
       "    <tr>\n",
       "      <th>11539</th>\n",
       "      <td>0</td>\n",
       "      <td>americanair leav 20 minut late flight warn com...</td>\n",
       "    </tr>\n",
       "    <tr>\n",
       "      <th>11540</th>\n",
       "      <td>0</td>\n",
       "      <td>americanair money chang flight answer phone su...</td>\n",
       "    </tr>\n",
       "  </tbody>\n",
       "</table>\n",
       "<p>11541 rows × 2 columns</p>\n",
       "</div>\n",
       "      <button class=\"colab-df-convert\" onclick=\"convertToInteractive('df-47f4f7c0-5cf9-44bc-90ef-669d925d46df')\"\n",
       "              title=\"Convert this dataframe to an interactive table.\"\n",
       "              style=\"display:none;\">\n",
       "        \n",
       "  <svg xmlns=\"http://www.w3.org/2000/svg\" height=\"24px\"viewBox=\"0 0 24 24\"\n",
       "       width=\"24px\">\n",
       "    <path d=\"M0 0h24v24H0V0z\" fill=\"none\"/>\n",
       "    <path d=\"M18.56 5.44l.94 2.06.94-2.06 2.06-.94-2.06-.94-.94-2.06-.94 2.06-2.06.94zm-11 1L8.5 8.5l.94-2.06 2.06-.94-2.06-.94L8.5 2.5l-.94 2.06-2.06.94zm10 10l.94 2.06.94-2.06 2.06-.94-2.06-.94-.94-2.06-.94 2.06-2.06.94z\"/><path d=\"M17.41 7.96l-1.37-1.37c-.4-.4-.92-.59-1.43-.59-.52 0-1.04.2-1.43.59L10.3 9.45l-7.72 7.72c-.78.78-.78 2.05 0 2.83L4 21.41c.39.39.9.59 1.41.59.51 0 1.02-.2 1.41-.59l7.78-7.78 2.81-2.81c.8-.78.8-2.07 0-2.86zM5.41 20L4 18.59l7.72-7.72 1.47 1.35L5.41 20z\"/>\n",
       "  </svg>\n",
       "      </button>\n",
       "      \n",
       "  <style>\n",
       "    .colab-df-container {\n",
       "      display:flex;\n",
       "      flex-wrap:wrap;\n",
       "      gap: 12px;\n",
       "    }\n",
       "\n",
       "    .colab-df-convert {\n",
       "      background-color: #E8F0FE;\n",
       "      border: none;\n",
       "      border-radius: 50%;\n",
       "      cursor: pointer;\n",
       "      display: none;\n",
       "      fill: #1967D2;\n",
       "      height: 32px;\n",
       "      padding: 0 0 0 0;\n",
       "      width: 32px;\n",
       "    }\n",
       "\n",
       "    .colab-df-convert:hover {\n",
       "      background-color: #E2EBFA;\n",
       "      box-shadow: 0px 1px 2px rgba(60, 64, 67, 0.3), 0px 1px 3px 1px rgba(60, 64, 67, 0.15);\n",
       "      fill: #174EA6;\n",
       "    }\n",
       "\n",
       "    [theme=dark] .colab-df-convert {\n",
       "      background-color: #3B4455;\n",
       "      fill: #D2E3FC;\n",
       "    }\n",
       "\n",
       "    [theme=dark] .colab-df-convert:hover {\n",
       "      background-color: #434B5C;\n",
       "      box-shadow: 0px 1px 3px 1px rgba(0, 0, 0, 0.15);\n",
       "      filter: drop-shadow(0px 1px 2px rgba(0, 0, 0, 0.3));\n",
       "      fill: #FFFFFF;\n",
       "    }\n",
       "  </style>\n",
       "\n",
       "      <script>\n",
       "        const buttonEl =\n",
       "          document.querySelector('#df-47f4f7c0-5cf9-44bc-90ef-669d925d46df button.colab-df-convert');\n",
       "        buttonEl.style.display =\n",
       "          google.colab.kernel.accessAllowed ? 'block' : 'none';\n",
       "\n",
       "        async function convertToInteractive(key) {\n",
       "          const element = document.querySelector('#df-47f4f7c0-5cf9-44bc-90ef-669d925d46df');\n",
       "          const dataTable =\n",
       "            await google.colab.kernel.invokeFunction('convertToInteractive',\n",
       "                                                     [key], {});\n",
       "          if (!dataTable) return;\n",
       "\n",
       "          const docLinkHtml = 'Like what you see? Visit the ' +\n",
       "            '<a target=\"_blank\" href=https://colab.research.google.com/notebooks/data_table.ipynb>data table notebook</a>'\n",
       "            + ' to learn more about interactive tables.';\n",
       "          element.innerHTML = '';\n",
       "          dataTable['output_type'] = 'display_data';\n",
       "          await google.colab.output.renderOutput(dataTable, element);\n",
       "          const docLink = document.createElement('div');\n",
       "          docLink.innerHTML = docLinkHtml;\n",
       "          element.appendChild(docLink);\n",
       "        }\n",
       "      </script>\n",
       "    </div>\n",
       "  </div>\n",
       "  "
      ],
      "text/plain": [
       "       airline_sentiment                                         cleantext2\n",
       "0                      1        virginamerica plu ad commerci experi tacki \n",
       "1                      0  virginamerica realli aggress blast obnoxi ente...\n",
       "2                      0                virginamerica realli big bad thing \n",
       "3                      0  virginamerica serious would pay 30 flight seat...\n",
       "4                      1  virginamerica ye nearli everi time fli vx ear ...\n",
       "...                  ...                                                ...\n",
       "11536                  0  americanair flight cancel flightl leav tomorro...\n",
       "11537                  0                       americanair right cue delay \n",
       "11538                  1       americanair thank got differ flight chicago \n",
       "11539                  0  americanair leav 20 minut late flight warn com...\n",
       "11540                  0  americanair money chang flight answer phone su...\n",
       "\n",
       "[11541 rows x 2 columns]"
      ]
     },
     "execution_count": 71,
     "metadata": {},
     "output_type": "execute_result"
    }
   ],
   "source": [
    "df2 = df2[['airline_sentiment', 'cleantext2']]\n",
    "df2"
   ]
  },
  {
   "cell_type": "code",
   "execution_count": 71,
   "metadata": {
    "id": "Rz6P66brZ1ge"
   },
   "outputs": [],
   "source": []
  },
  {
   "cell_type": "code",
   "execution_count": 71,
   "metadata": {
    "id": "V9YP8_Y_Z1k0"
   },
   "outputs": [],
   "source": [
    "\n"
   ]
  },
  {
   "cell_type": "markdown",
   "metadata": {
    "id": "Oci7nS6NaG3z"
   },
   "source": [
    "## Support Vector Machine"
   ]
  },
  {
   "cell_type": "code",
   "execution_count": 72,
   "metadata": {
    "id": "98Sf36WHaFXt"
   },
   "outputs": [],
   "source": [
    "Vectorizerr = TfidfVectorizer(use_idf=True, lowercase=True) # Creating object of TF-IDF vectorizer\n",
    "X_Tf_Df= Vectorizerr.fit_transform(df2.cleantext2)\n",
    "\n",
    "# Splitting the data into train and test\n",
    "x_train, x_test, y_train, y_test = train_test_split(X_Tf_Df, df2['airline_sentiment'], random_state=42)"
   ]
  },
  {
   "cell_type": "code",
   "execution_count": 73,
   "metadata": {
    "id": "T6dxZN7CaJbj"
   },
   "outputs": [],
   "source": [
    "SVM = svm.SVC(probability=True)\n",
    "SVMmodel=SVM.fit(x_train, y_train)\n",
    "Predicted=SVMmodel.predict(x_test)\n",
    "test_probs = SVMmodel.predict_proba(x_test)\n",
    "test_probs = test_probs[:, 1]\n",
    "yhat = SVMmodel.predict(x_test)"
   ]
  },
  {
   "cell_type": "code",
   "execution_count": 74,
   "metadata": {
    "id": "ykKHPghUaJil"
   },
   "outputs": [],
   "source": [
    "confusion_matrix = metrics.confusion_matrix(y_test, Predicted)"
   ]
  },
  {
   "cell_type": "code",
   "execution_count": 75,
   "metadata": {
    "colab": {
     "base_uri": "https://localhost:8080/",
     "height": 295
    },
    "id": "6JNHcXQZCUrf",
    "outputId": "be7c4720-eb84-4029-d814-2803f75c4950"
   },
   "outputs": [
    {
     "data": {
      "image/png": "[encoded data removed]",
      "text/plain": [
       "<Figure size 432x288 with 2 Axes>"
      ]
     },
     "metadata": {
      "needs_background": "light"
     },
     "output_type": "display_data"
    }
   ],
   "source": [
    "cm_display = metrics.ConfusionMatrixDisplay(confusion_matrix = confusion_matrix, display_labels = [False, True])\n",
    "cm_display.plot()\n",
    "plt.title(\"Confusion Matrix of LRM\")\n",
    "plt.show() "
   ]
  },
  {
   "cell_type": "code",
   "execution_count": 76,
   "metadata": {
    "colab": {
     "base_uri": "https://localhost:8080/"
    },
    "id": "bhW-FD5VAsq1",
    "outputId": "b6dc50b8-68b4-4c3b-fdc6-5921a0c4b6ac"
   },
   "outputs": [
    {
     "name": "stdout",
     "output_type": "stream",
     "text": [
      "              precision    recall  f1-score   support\n",
      "\n",
      "           0       0.91      0.98      0.95      2323\n",
      "           1       0.90      0.61      0.72       563\n",
      "\n",
      "    accuracy                           0.91      2886\n",
      "   macro avg       0.91      0.79      0.84      2886\n",
      "weighted avg       0.91      0.91      0.90      2886\n",
      "\n"
     ]
    }
   ],
   "source": [
    "print(classification_report(y_test,Predicted)) \n"
   ]
  },
  {
   "cell_type": "code",
   "execution_count": 77,
   "metadata": {
    "colab": {
     "base_uri": "https://localhost:8080/"
    },
    "id": "qUOTi860DjD-",
    "outputId": "19d09aec-a5b7-4a8c-f607-ff8b8314ec3a"
   },
   "outputs": [
    {
     "name": "stdout",
     "output_type": "stream",
     "text": [
      "Test Accuracy is 90.99 %\n"
     ]
    }
   ],
   "source": [
    "score = SVMmodel.score(x_test,y_test)\n",
    "print('Test Accuracy is', round(score*100,2),\"%\")"
   ]
  },
  {
   "cell_type": "markdown",
   "metadata": {
    "id": "UjKmKbX2aJ1f"
   },
   "source": [
    "## Neural Network"
   ]
  },
  {
   "cell_type": "code",
   "execution_count": 78,
   "metadata": {
    "id": "esohHT9zESCG"
   },
   "outputs": [],
   "source": [
    "from keras.models import Sequential\n",
    "from keras.layers import Embedding, LSTM, Bidirectional\n",
    "from keras.callbacks import EarlyStopping\n",
    "from keras.preprocessing.text import Tokenizer\n",
    "from keras.layers import Dense, Activation, Embedding, Dropout"
   ]
  },
  {
   "cell_type": "code",
   "execution_count": 79,
   "metadata": {
    "id": "VsMUTODXSJY6"
   },
   "outputs": [],
   "source": [
    "clean_text  = df2['cleantext2'].tolist()\n"
   ]
  },
  {
   "cell_type": "code",
   "execution_count": 80,
   "metadata": {
    "id": "6Y186YOKR8er"
   },
   "outputs": [],
   "source": [
    "earlystop = EarlyStopping(monitor='val_loss', patience=2, min_delta=0.0001, verbose=1, mode='auto')\n",
    "callbacks_list = [earlystop]\n",
    "df2['text'] = clean_text\n",
    "total=0"
   ]
  },
  {
   "cell_type": "code",
   "execution_count": 81,
   "metadata": {
    "colab": {
     "base_uri": "https://localhost:8080/"
    },
    "id": "fz3XmeuuKdqk",
    "outputId": "ccb363ec-1a84-41a6-b357-291239aab016"
   },
   "outputs": [
    {
     "name": "stdout",
     "output_type": "stream",
     "text": [
      "Epoch 1/10\n",
      "293/293 [==============================] - 2s 6ms/step - loss: 0.5999 - accuracy: 0.8205 - val_loss: 0.2222 - val_accuracy: 0.9365\n",
      "Epoch 2/10\n",
      "293/293 [==============================] - 2s 5ms/step - loss: 0.3328 - accuracy: 0.8779 - val_loss: 0.1662 - val_accuracy: 0.9461\n",
      "Epoch 3/10\n",
      "293/293 [==============================] - 2s 6ms/step - loss: 0.2652 - accuracy: 0.8955 - val_loss: 0.1501 - val_accuracy: 0.9480\n",
      "Epoch 4/10\n",
      "293/293 [==============================] - 2s 5ms/step - loss: 0.2331 - accuracy: 0.9056 - val_loss: 0.1448 - val_accuracy: 0.9471\n",
      "Epoch 5/10\n",
      "293/293 [==============================] - 2s 6ms/step - loss: 0.2001 - accuracy: 0.9207 - val_loss: 0.1430 - val_accuracy: 0.9432\n",
      "Epoch 6/10\n",
      "293/293 [==============================] - 2s 6ms/step - loss: 0.1745 - accuracy: 0.9330 - val_loss: 0.1486 - val_accuracy: 0.9451\n",
      "Epoch 7/10\n",
      "293/293 [==============================] - 2s 5ms/step - loss: 0.1621 - accuracy: 0.9443 - val_loss: 0.1523 - val_accuracy: 0.9471\n",
      "Epoch 7: early stopping\n",
      "37/37 [==============================] - 0s 2ms/step - loss: 0.3461 - accuracy: 0.8787\n",
      "The evaluation score is =  [0.3461363911628723, 0.8786828517913818]\n",
      "Epoch 1/10\n",
      "293/293 [==============================] - 2s 6ms/step - loss: 0.6043 - accuracy: 0.7856 - val_loss: 0.2411 - val_accuracy: 0.9124\n",
      "Epoch 2/10\n",
      "293/293 [==============================] - 2s 6ms/step - loss: 0.3642 - accuracy: 0.8416 - val_loss: 0.1776 - val_accuracy: 0.9451\n",
      "Epoch 3/10\n",
      "293/293 [==============================] - 2s 5ms/step - loss: 0.2987 - accuracy: 0.8613 - val_loss: 0.1577 - val_accuracy: 0.9471\n",
      "Epoch 4/10\n",
      "293/293 [==============================] - 2s 5ms/step - loss: 0.2699 - accuracy: 0.8932 - val_loss: 0.1490 - val_accuracy: 0.9500\n",
      "Epoch 5/10\n",
      "293/293 [==============================] - 2s 5ms/step - loss: 0.2353 - accuracy: 0.9226 - val_loss: 0.1443 - val_accuracy: 0.9500\n",
      "Epoch 6/10\n",
      "293/293 [==============================] - 2s 6ms/step - loss: 0.2075 - accuracy: 0.9332 - val_loss: 0.1423 - val_accuracy: 0.9480\n",
      "Epoch 7/10\n",
      "293/293 [==============================] - 2s 6ms/step - loss: 0.1797 - accuracy: 0.9403 - val_loss: 0.1441 - val_accuracy: 0.9519\n",
      "Epoch 8/10\n",
      "293/293 [==============================] - 2s 6ms/step - loss: 0.1594 - accuracy: 0.9468 - val_loss: 0.1461 - val_accuracy: 0.9509\n",
      "Epoch 8: early stopping\n",
      "37/37 [==============================] - 0s 3ms/step - loss: 0.2175 - accuracy: 0.9177\n",
      "The evaluation score is =  [0.2174929827451706, 0.917677640914917]\n",
      "Epoch 1/10\n",
      "293/293 [==============================] - 2s 7ms/step - loss: 0.5921 - accuracy: 0.8038 - val_loss: 0.2330 - val_accuracy: 0.9336\n",
      "Epoch 2/10\n",
      "293/293 [==============================] - 2s 6ms/step - loss: 0.3372 - accuracy: 0.8813 - val_loss: 0.1622 - val_accuracy: 0.9471\n",
      "Epoch 3/10\n",
      "293/293 [==============================] - 2s 6ms/step - loss: 0.2716 - accuracy: 0.9064 - val_loss: 0.1474 - val_accuracy: 0.9451\n",
      "Epoch 4/10\n",
      "293/293 [==============================] - 2s 6ms/step - loss: 0.2297 - accuracy: 0.9242 - val_loss: 0.1416 - val_accuracy: 0.9471\n",
      "Epoch 5/10\n",
      "293/293 [==============================] - 2s 6ms/step - loss: 0.2048 - accuracy: 0.9311 - val_loss: 0.1425 - val_accuracy: 0.9490\n",
      "Epoch 6/10\n",
      "293/293 [==============================] - 2s 6ms/step - loss: 0.1766 - accuracy: 0.9416 - val_loss: 0.1448 - val_accuracy: 0.9451\n",
      "Epoch 6: early stopping\n",
      "37/37 [==============================] - 0s 2ms/step - loss: 0.2551 - accuracy: 0.9064\n",
      "The evaluation score is =  [0.25510063767433167, 0.9064124822616577]\n",
      "Epoch 1/10\n",
      "293/293 [==============================] - 3s 7ms/step - loss: 0.6395 - accuracy: 0.7959 - val_loss: 0.2514 - val_accuracy: 0.9211\n",
      "Epoch 2/10\n",
      "293/293 [==============================] - 2s 6ms/step - loss: 0.3634 - accuracy: 0.8802 - val_loss: 0.1673 - val_accuracy: 0.9471\n",
      "Epoch 3/10\n",
      "293/293 [==============================] - 2s 5ms/step - loss: 0.2672 - accuracy: 0.9091 - val_loss: 0.1440 - val_accuracy: 0.9490\n",
      "Epoch 4/10\n",
      "293/293 [==============================] - 2s 6ms/step - loss: 0.2241 - accuracy: 0.9246 - val_loss: 0.1413 - val_accuracy: 0.9509\n",
      "Epoch 5/10\n",
      "293/293 [==============================] - 2s 6ms/step - loss: 0.1948 - accuracy: 0.9318 - val_loss: 0.1408 - val_accuracy: 0.9500\n",
      "Epoch 6/10\n",
      "293/293 [==============================] - 2s 6ms/step - loss: 0.1642 - accuracy: 0.9453 - val_loss: 0.1426 - val_accuracy: 0.9509\n",
      "Epoch 7/10\n",
      "293/293 [==============================] - 2s 5ms/step - loss: 0.1522 - accuracy: 0.9485 - val_loss: 0.1449 - val_accuracy: 0.9500\n",
      "Epoch 7: early stopping\n",
      "37/37 [==============================] - 0s 3ms/step - loss: 0.2870 - accuracy: 0.8943\n",
      "The evaluation score is =  [0.28699126839637756, 0.8942807912826538]\n",
      "Epoch 1/10\n",
      "293/293 [==============================] - 2s 6ms/step - loss: 0.6365 - accuracy: 0.8107 - val_loss: 0.2526 - val_accuracy: 0.9297\n",
      "Epoch 2/10\n",
      "293/293 [==============================] - 2s 5ms/step - loss: 0.3707 - accuracy: 0.8707 - val_loss: 0.1755 - val_accuracy: 0.9471\n",
      "Epoch 3/10\n",
      "293/293 [==============================] - 2s 6ms/step - loss: 0.2874 - accuracy: 0.9014 - val_loss: 0.1501 - val_accuracy: 0.9490\n",
      "Epoch 4/10\n",
      "293/293 [==============================] - 2s 6ms/step - loss: 0.2276 - accuracy: 0.9178 - val_loss: 0.1401 - val_accuracy: 0.9519\n",
      "Epoch 5/10\n",
      "293/293 [==============================] - 2s 6ms/step - loss: 0.1931 - accuracy: 0.9293 - val_loss: 0.1387 - val_accuracy: 0.9480\n",
      "Epoch 6/10\n",
      "293/293 [==============================] - 2s 6ms/step - loss: 0.1699 - accuracy: 0.9359 - val_loss: 0.1406 - val_accuracy: 0.9519\n",
      "Epoch 7/10\n",
      "293/293 [==============================] - 2s 6ms/step - loss: 0.1546 - accuracy: 0.9426 - val_loss: 0.1427 - val_accuracy: 0.9509\n",
      "Epoch 7: early stopping\n",
      "37/37 [==============================] - 0s 4ms/step - loss: 0.3006 - accuracy: 0.8744\n",
      "The evaluation score is =  [0.3006247282028198, 0.8743500709533691]\n"
     ]
    }
   ],
   "source": [
    "for t in range (0,5):\n",
    "     cv=10\n",
    "     k = [int((len(df2['text']))/cv*j) for j in range(cv+1)]\n",
    "     X_test, y_test= df2['text'][k[t]:k[t+1]], df2['airline_sentiment'][k[t]:k[t+1]]\n",
    "     X_train, y_train =pd.concat([df2['text'][:k[t]],df2['text'][k[t+1]:]]), pd.concat([df2['airline_sentiment'][:k[t]],df2['airline_sentiment']  [k[t+1]:]])\n",
    "     nb_classes = 3\n",
    "     train_data=[]\n",
    "     for i in X_train:\n",
    "        train_data.append(i)\n",
    "     test_data=[]\n",
    "     for i in X_test:\n",
    "        test_data.append(i)\n",
    "     Token = Tokenizer(num_words=10000)\n",
    "\n",
    "     # Splitting into training and testing\n",
    "     X_train = Token.fit_on_texts(train_data)\n",
    "     X_test = Token.fit_on_texts(test_data)\n",
    "     X_train = Token.texts_to_matrix(train_data,mode='binary')\n",
    "     X_test = Token.texts_to_matrix(test_data,mode='binary')\n",
    "     \n",
    "     from keras.utils import to_categorical\n",
    "     y_train = to_categorical(y_train, nb_classes)\n",
    "     y_test = to_categorical(y_test, nb_classes)\n",
    "\n",
    "     # Training Models\n",
    "     modelNN = Sequential()\n",
    "     modelNN.add(Dense(10, input_shape=(10000,)))\n",
    "     modelNN.add(Activation('relu'))\n",
    "     modelNN.add(Dropout(0.5))\n",
    "     modelNN.add(Dense(3))\n",
    "     modelNN.add(Activation('softmax'))\n",
    "     modelNN.compile(loss='categorical_crossentropy',optimizer='adam',metrics=['accuracy'])\n",
    "     modelNN.fit(X_train, y_train,epochs=10, batch_size=32,callbacks = callbacks_list, validation_split=0.1)\n",
    "     score = modelNN.evaluate(X_test, y_test,batch_size=32, verbose=1)\n",
    "     print(\"The evaluation score is = \", score)"
   ]
  },
  {
   "cell_type": "markdown",
   "metadata": {
    "id": "57nKf5QJzprp"
   },
   "source": [
    "--- \n",
    "\n",
    "This cell goes to the very bottom of your submitted notebok.\n",
    "You are requried to link the sources and web-links that you have used for various parts of this coursework. \n",
    "\n",
    "Write them sources used in the following format similar to the first examle in the sources list below :\n",
    "\n",
    "    - what you have used them for : web-link\n",
    "\n",
    "Sources:\n",
    "\n",
    "- Implement a recurrent neural network : https://peterroelants.github.io/posts/rnn-implementation-part01/"
   ]
  },
  {
   "cell_type": "code",
   "execution_count": 81,
   "metadata": {
    "id": "FoEIWTwyzqLy"
   },
   "outputs": [],
   "source": []
  }
 ],
 "metadata": {
  "colab": {
   "provenance": []
  },
  "kernelspec": {
   "display_name": "Python 3 (ipykernel)",
   "language": "python",
   "name": "python3"
  },
  "language_info": {
   "codemirror_mode": {
    "name": "ipython",
    "version": 3
   },
   "file_extension": ".py",
   "mimetype": "text/x-python",
   "name": "python",
   "nbconvert_exporter": "python",
   "pygments_lexer": "ipython3",
   "version": "3.9.12"
  }
 },
 "nbformat": 4,
 "nbformat_minor": 1
}
